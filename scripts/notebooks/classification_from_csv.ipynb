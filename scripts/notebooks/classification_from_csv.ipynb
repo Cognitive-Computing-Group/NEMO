{
 "cells": [
  {
   "cell_type": "markdown",
   "metadata": {},
   "source": [
    "# Simple classification example from CSV data\n",
    "\n",
    "This notebook shows how to use the csv data from the NEMO dataset for a simple classification task. Running the notebook does not require any code from the nemo package.\n",
    "\n",
    "Set the `csv_data_path` variable to your local path to the csv data. "
   ]
  },
  {
   "cell_type": "code",
   "execution_count": 1,
   "metadata": {},
   "outputs": [],
   "source": [
    "csv_data_path = (\n",
    "    \"./../../data/empe_csv\"  # Set this to the folder where you have the csv files\n",
    ")"
   ]
  },
  {
   "cell_type": "code",
   "execution_count": 2,
   "metadata": {},
   "outputs": [],
   "source": [
    "from collections import defaultdict\n",
    "import numpy as np\n",
    "import pandas as pd\n",
    "from pathlib import Path"
   ]
  },
  {
   "cell_type": "markdown",
   "metadata": {},
   "source": [
    " ## Load data"
   ]
  },
  {
   "cell_type": "code",
   "execution_count": 3,
   "metadata": {},
   "outputs": [],
   "source": [
    "epochs_df = pd.read_csv(Path(csv_data_path) / \"epochs.csv\", sep=\";\")\n",
    "epochs_metadata = pd.read_csv(\n",
    "    Path(csv_data_path) / \"epochs_metadata.csv\", sep=\";\"\n",
    ")"
   ]
  },
  {
   "cell_type": "markdown",
   "metadata": {},
   "source": [
    "## Construct X and y\n",
    "\n",
    "In this example we will use the mean value of each channel as the only features. For more advanced feature extraction, see `nemo.feature_extraction.create_datasets_from_epochs_df`."
   ]
  },
  {
   "cell_type": "code",
   "execution_count": 4,
   "metadata": {},
   "outputs": [
    {
     "name": "stdout",
     "output_type": "stream",
     "text": [
      "\n",
      "Created X and y for 31 subjects.\n",
      "X size: (1203, 48)\n",
      "class counts: {0: 301, 1: 300, 2: 301, 3: 301}\n",
      "\n"
     ]
    }
   ],
   "source": [
    "X, y = defaultdict(list), defaultdict(list)\n",
    "chs = [c for c in epochs_df.columns if \" hbo\" in c or \" hbr\" in c]\n",
    "\n",
    "for epoch in epochs_df[\"epoch\"].unique():\n",
    "    epoch_df = epochs_df[epochs_df[\"epoch\"] == epoch]\n",
    "    subject = epoch_df[\"subject\"].iloc[0]\n",
    "\n",
    "    # extract mean of each channel\n",
    "    X[subject].append(epoch_df[chs].mean(axis=0))\n",
    "\n",
    "    # get label from metadata (labels are also in epochs_df, this just shows how to use the metadata dataframe)\n",
    "    y[subject].append(epochs_metadata.loc[epoch, \"value\"])\n",
    "\n",
    "u, c = np.unique(np.concatenate([*y.values()]), return_counts=True)\n",
    "print(\n",
    "    f\"\"\"\n",
    "Created X and y for {len(X)} subjects.\n",
    "X size: {np.concatenate([*X.values()]).shape}\n",
    "class counts: {dict(zip(u, c))}\n",
    "\"\"\"\n",
    ")"
   ]
  },
  {
   "cell_type": "markdown",
   "metadata": {},
   "source": [
    " ## Train and evaluate models"
   ]
  },
  {
   "cell_type": "code",
   "execution_count": 5,
   "metadata": {},
   "outputs": [
    {
     "name": "stdout",
     "output_type": "stream",
     "text": [
      "Mean subject score: 0.355\n"
     ]
    }
   ],
   "source": [
    "from sklearn.model_selection import cross_val_score, StratifiedKFold\n",
    "from sklearn.discriminant_analysis import LinearDiscriminantAnalysis\n",
    "\n",
    "clf = LinearDiscriminantAnalysis(shrinkage=\"auto\", solver=\"lsqr\")\n",
    "\n",
    "\n",
    "def get_cv(y, seed=1):\n",
    "    _, label_counts = np.unique(y, return_counts=True)\n",
    "    cv = StratifiedKFold(n_splits=np.min(label_counts), shuffle=True, random_state=seed)\n",
    "    return cv\n",
    "\n",
    "\n",
    "subject_scores = []\n",
    "for subject in X:\n",
    "    subject_score = cross_val_score(\n",
    "        clf, X[subject], y[subject], cv=get_cv(y[subject])\n",
    "    ).mean()\n",
    "    subject_scores.append(subject_score)\n",
    "\n",
    "print(f\"Mean subject score: {np.mean(subject_scores):.3f}\")"
   ]
  }
 ],
 "metadata": {
  "kernelspec": {
   "display_name": "Python 3.10.8 ('nemo')",
   "language": "python",
   "name": "python3"
  },
  "language_info": {
   "codemirror_mode": {
    "name": "ipython",
    "version": 3
   },
   "file_extension": ".py",
   "mimetype": "text/x-python",
   "name": "python",
   "nbconvert_exporter": "python",
   "pygments_lexer": "ipython3",
   "version": "3.10.8"
  },
  "orig_nbformat": 4,
  "vscode": {
   "interpreter": {
    "hash": "fc4d8a9c7c9f112dedbc8faa3df21928deae177fc7cf6608339e0ac610a23ccf"
   }
  }
 },
 "nbformat": 4,
 "nbformat_minor": 2
}
