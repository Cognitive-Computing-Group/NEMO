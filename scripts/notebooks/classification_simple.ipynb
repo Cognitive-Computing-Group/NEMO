{
 "cells": [
  {
   "cell_type": "markdown",
   "metadata": {},
   "source": [
    "# Simple classification example"
   ]
  },
  {
   "cell_type": "code",
   "execution_count": 1,
   "metadata": {},
   "outputs": [],
   "source": [
    "import numpy as np\n",
    "from sklearn.model_selection import cross_val_score\n",
    "from sklearn.metrics import accuracy_score, make_scorer\n",
    "from sklearn.discriminant_analysis import LinearDiscriminantAnalysis\n",
    "\n",
    "from nemo.epochs import get_epochs, get_epochs_dfs\n",
    "from nemo.feature_extraction import (\n",
    "    create_datasets_from_epochs_df,\n",
    "    load_dataset,\n",
    "    create_experiment_id,\n",
    ")\n",
    "from nemo.classification import get_cv"
   ]
  },
  {
   "cell_type": "markdown",
   "metadata": {},
   "source": [
    "### Load data"
   ]
  },
  {
   "cell_type": "code",
   "execution_count": 2,
   "metadata": {},
   "outputs": [
    {
     "name": "stdout",
     "output_type": "stream",
     "text": [
      "Loaded dataset empe-4_class-MV-3-hbo.\n"
     ]
    }
   ],
   "source": [
    "task = \"4_class\"\n",
    "n_windows = 3\n",
    "features = [\"MV\"]\n",
    "include_events = \"empe\"\n",
    "ch_selection = \"hbo\"\n",
    "try:\n",
    "    exp_id = create_experiment_id(\n",
    "        task=task,\n",
    "        n_windows=n_windows,\n",
    "        features=features,\n",
    "        include_events=include_events,\n",
    "        ch_selection=ch_selection,\n",
    "    )\n",
    "    X, y, _ = load_dataset(exp_id)\n",
    "    print(f\"Loaded dataset {exp_id}.\")\n",
    "except:\n",
    "    X, y, _ = create_datasets_from_epochs_df(\n",
    "        get_epochs_dfs(get_epochs(include_events=include_events))[0],\n",
    "        task=task,\n",
    "        n_windows=n_windows,\n",
    "        features=features,\n",
    "        include_events=include_events,\n",
    "        save=True,\n",
    "    )\n",
    "    print(f\"Created and saved dataset {exp_id}.\")"
   ]
  },
  {
   "cell_type": "markdown",
   "metadata": {},
   "source": [
    "## Subject-specific classification"
   ]
  },
  {
   "cell_type": "code",
   "execution_count": 3,
   "metadata": {},
   "outputs": [
    {
     "name": "stdout",
     "output_type": "stream",
     "text": [
      "\n",
      "Subject-specific classification accuracy: 0.391\n",
      "\n"
     ]
    }
   ],
   "source": [
    "n_classes = len(np.unique(np.concatenate([*y.values()])))\n",
    "clf = LinearDiscriminantAnalysis(\n",
    "    solver=\"lsqr\", shrinkage=\"auto\", priors=np.ones(n_classes) / n_classes\n",
    ")\n",
    "scorer = accuracy_score\n",
    "subject_scores = []\n",
    "for subject in X:\n",
    "    subject_scores.append(\n",
    "        cross_val_score(\n",
    "            clf,\n",
    "            X[subject],\n",
    "            y[subject],\n",
    "            cv=get_cv(y[subject]),\n",
    "            scoring=make_scorer(scorer),\n",
    "        ).mean()\n",
    "    )\n",
    "\n",
    "print(\n",
    "    f\"\"\"\n",
    "Subject-specific classification accuracy: {np.mean(subject_scores):.3f}\n",
    "\"\"\"\n",
    ")"
   ]
  },
  {
   "cell_type": "markdown",
   "metadata": {},
   "source": [
    "## Combined model classification"
   ]
  },
  {
   "cell_type": "code",
   "execution_count": 4,
   "metadata": {},
   "outputs": [
    {
     "name": "stdout",
     "output_type": "stream",
     "text": [
      "\n",
      "Test subjects: sub-101, sub-105, sub-107, sub-108, sub-109\n",
      "\n",
      "X_train: (1003, 72)\n",
      "X_test: (200, 72)\n",
      "\n",
      "Combined model classification accuracy: 0.300\n",
      "\n"
     ]
    }
   ],
   "source": [
    "test_subject_ix = np.array([0, 1, 2, 3, 4])\n",
    "test_subject_mask = np.isin(np.arange(len(X)), test_subject_ix)\n",
    "X_train = np.concatenate(np.array(list(X.values()), dtype=object)[~test_subject_mask])\n",
    "y_train = np.concatenate(np.array(list(y.values()), dtype=object)[~test_subject_mask])\n",
    "X_test = np.concatenate(np.array(list(X.values()), dtype=object)[test_subject_mask])\n",
    "y_test = np.concatenate(np.array(list(y.values()), dtype=object)[test_subject_mask])\n",
    "\n",
    "y_pred = clf.fit(X_train, y_train).predict(X_test)\n",
    "score = scorer(y_test, y_pred)\n",
    "\n",
    "print(\n",
    "    f\"\"\"\n",
    "Test subjects: {\", \".join(np.array(list(X.keys()))[test_subject_ix])}\n",
    "\n",
    "X_train: {X_train.shape}\n",
    "X_test: {X_test.shape}\n",
    "\n",
    "Combined model classification accuracy: {score:.3f}\n",
    "\"\"\"\n",
    ")"
   ]
  }
 ],
 "metadata": {
  "kernelspec": {
   "display_name": "Python 3.10.8 ('nemo')",
   "language": "python",
   "name": "python3"
  },
  "language_info": {
   "codemirror_mode": {
    "name": "ipython",
    "version": 3
   },
   "file_extension": ".py",
   "mimetype": "text/x-python",
   "name": "python",
   "nbconvert_exporter": "python",
   "pygments_lexer": "ipython3",
   "version": "3.10.8"
  },
  "orig_nbformat": 4,
  "vscode": {
   "interpreter": {
    "hash": "fc4d8a9c7c9f112dedbc8faa3df21928deae177fc7cf6608339e0ac610a23ccf"
   }
  }
 },
 "nbformat": 4,
 "nbformat_minor": 2
}
